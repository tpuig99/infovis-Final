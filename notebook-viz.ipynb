{
 "cells": [
  {
   "cell_type": "code",
   "execution_count": 63,
   "metadata": {},
   "outputs": [
    {
     "data": {
      "text/html": "<div>\n<style scoped>\n    .dataframe tbody tr th:only-of-type {\n        vertical-align: middle;\n    }\n\n    .dataframe tbody tr th {\n        vertical-align: top;\n    }\n\n    .dataframe thead th {\n        text-align: right;\n    }\n</style>\n<table border=\"1\" class=\"dataframe\">\n  <thead>\n    <tr style=\"text-align: right;\">\n      <th></th>\n      <th>sexo</th>\n      <th>grupo_etario</th>\n      <th>jurisdiccion_residencia</th>\n      <th>jurisdiccion_aplicacion</th>\n      <th>fecha_aplicacion</th>\n      <th>vacuna</th>\n      <th>condicion_aplicacion</th>\n      <th>orden_dosis</th>\n    </tr>\n  </thead>\n  <tbody>\n    <tr>\n      <th>0</th>\n      <td>M</td>\n      <td>90-99</td>\n      <td>Mendoza</td>\n      <td>Mendoza</td>\n      <td>2021-06-13</td>\n      <td>Sputnik</td>\n      <td>EstratÃ©gico</td>\n      <td>2</td>\n    </tr>\n    <tr>\n      <th>1</th>\n      <td>F</td>\n      <td>30-39</td>\n      <td>Buenos Aires</td>\n      <td>Buenos Aires</td>\n      <td>2021-03-19</td>\n      <td>Sputnik</td>\n      <td>EstratÃ©gico</td>\n      <td>2</td>\n    </tr>\n    <tr>\n      <th>2</th>\n      <td>F</td>\n      <td>30-39</td>\n      <td>Buenos Aires</td>\n      <td>Buenos Aires</td>\n      <td>2021-02-23</td>\n      <td>Sputnik</td>\n      <td>EstratÃ©gico</td>\n      <td>1</td>\n    </tr>\n    <tr>\n      <th>3</th>\n      <td>M</td>\n      <td>60-69</td>\n      <td>Santa Fe</td>\n      <td>Santa Fe</td>\n      <td>2021-05-12</td>\n      <td>Sputnik</td>\n      <td>60 o mÃ¡s aÃ±os</td>\n      <td>1</td>\n    </tr>\n    <tr>\n      <th>4</th>\n      <td>M</td>\n      <td>60-69</td>\n      <td>Entre RÃ­os</td>\n      <td>Entre RÃ­os</td>\n      <td>2021-05-06</td>\n      <td>Sputnik</td>\n      <td>60 o mÃ¡s aÃ±os</td>\n      <td>1</td>\n    </tr>\n  </tbody>\n</table>\n</div>",
      "text/plain": "  sexo grupo_etario jurisdiccion_residencia jurisdiccion_aplicacion  \\\n0    M        90-99                 Mendoza                 Mendoza   \n1    F        30-39            Buenos Aires            Buenos Aires   \n2    F        30-39            Buenos Aires            Buenos Aires   \n3    M        60-69                Santa Fe                Santa Fe   \n4    M        60-69             Entre RÃ­os             Entre RÃ­os   \n\n  fecha_aplicacion   vacuna condicion_aplicacion  orden_dosis  \n0       2021-06-13  Sputnik         EstratÃ©gico            2  \n1       2021-03-19  Sputnik         EstratÃ©gico            2  \n2       2021-02-23  Sputnik         EstratÃ©gico            1  \n3       2021-05-12  Sputnik      60 o mÃ¡s aÃ±os            1  \n4       2021-05-06  Sputnik      60 o mÃ¡s aÃ±os            1  "
     },
     "execution_count": 63,
     "metadata": {},
     "output_type": "execute_result"
    }
   ],
   "source": [
    "import requests \r\n",
    "import altair as alt\r\n",
    "import pandas as pd\r\n",
    "import matplotlib.pyplot as plt\r\n",
    "\r\n",
    "vacunas_url = 'http://localhost:8000/vacunas?limit=5000'\r\n",
    "\r\n",
    "r = requests.get(vacunas_url)\r\n",
    "data = r.json()\r\n",
    "\r\n",
    "df = pd.DataFrame(data)\r\n",
    "df.head()"
   ]
  },
  {
   "cell_type": "code",
   "execution_count": 64,
   "metadata": {},
   "outputs": [
    {
     "data": {
      "image/png": "[encoded data removed]",
      "text/plain": "<Figure size 432x288 with 1 Axes>"
     },
     "metadata": {},
     "output_type": "display_data"
    }
   ],
   "source": [
    "## Pie chart based on sex\r\n",
    "piechart_labels = ['Mujer', 'Hombre', 'Otros']\r\n",
    "values = df['sexo'].value_counts().tolist()\r\n",
    "fig1, ax1 = plt.subplots()\r\n",
    "#plt.title('Vacunados por Sexo')\r\n",
    "ax1.pie(values, labels=piechart_labels, autopct='%1.1f%%', shadow=True, startangle=90, colors=['#f79bfa', '#7ea7f7', '#f5f29a'])\r\n",
    "ax1.axis('equal')\r\n",
    "plt.show()"
   ]
  },
  {
   "cell_type": "code",
   "execution_count": 69,
   "metadata": {},
   "outputs": [
    {
     "data": {
      "text/html": "\n<div id=\"altair-viz-4496e276d80b41658e6d03caf5676166\"></div>\n<script type=\"text/javascript\">\n  (function(spec, embedOpt){\n    let outputDiv = document.currentScript.previousElementSibling;\n    if (outputDiv.id !== \"altair-viz-4496e276d80b41658e6d03caf5676166\") {\n      outputDiv = document.getElementById(\"altair-viz-4496e276d80b41658e6d03caf5676166\");\n    }\n    const paths = {\n      \"vega\": \"https://cdn.jsdelivr.net/npm//vega@5?noext\",\n      \"vega-lib\": \"https://cdn.jsdelivr.net/npm//vega-lib?noext\",\n      \"vega-lite\": \"https://cdn.jsdelivr.net/npm//vega-lite@4.8.1?noext\",\n      \"vega-embed\": \"https://cdn.jsdelivr.net/npm//vega-embed@6?noext\",\n    };\n\n    function loadScript(lib) {\n      return new Promise(function(resolve, reject) {\n        var s = document.createElement('script');\n        s.src = paths[lib];\n        s.async = true;\n        s.onload = () => resolve(paths[lib]);\n        s.onerror = () => reject(`Error loading script: ${paths[lib]}`);\n        document.getElementsByTagName(\"head\")[0].appendChild(s);\n      });\n    }\n\n    function showError(err) {\n      outputDiv.innerHTML = `<div class=\"error\" style=\"color:red;\">${err}</div>`;\n      throw err;\n    }\n\n    function displayChart(vegaEmbed) {\n      vegaEmbed(outputDiv, spec, embedOpt)\n        .catch(err => showError(`Javascript Error: ${err.message}<br>This usually means there's a typo in your chart specification. See the javascript console for the full traceback.`));\n    }\n\n    if(typeof define === \"function\" && define.amd) {\n      requirejs.config({paths});\n      require([\"vega-embed\"], displayChart, err => showError(`Error loading script: ${err.message}`));\n    } else if (typeof vegaEmbed === \"function\") {\n      displayChart(vegaEmbed);\n    } else {\n      loadScript(\"vega\")\n        .then(() => loadScript(\"vega-lite\"))\n        .then(() => loadScript(\"vega-embed\"))\n        .catch(showError)\n        .then(() => displayChart(vegaEmbed));\n    }\n  })({\"config\": {\"view\": {\"continuousWidth\": 400, \"continuousHeight\": 300}}, \"data\": {\"name\": \"data-27992d2998c1b2a927188612fa05b876\"}, \"mark\": {\"type\": \"bar\", \"size\": 60}, \"encoding\": {\"color\": {\"value\": \"#7aedfa\"}, \"opacity\": {\"value\": 0.8}, \"x\": {\"type\": \"quantitative\", \"axis\": {\"labelFontSize\": 15, \"labelFontWeight\": \"normal\", \"titleFontSize\": 20}, \"field\": \"Aplicaciones\"}, \"y\": {\"type\": \"ordinal\", \"axis\": {\"labelFontSize\": 15, \"labelOverlap\": false, \"title\": \"\"}, \"field\": \"Vacuna\", \"sort\": \"-x\"}}, \"height\": 500, \"width\": 1200, \"$schema\": \"https://vega.github.io/schema/vega-lite/v4.8.1.json\", \"datasets\": {\"data-27992d2998c1b2a927188612fa05b876\": [{\"Vacuna\": \"Sputnik\", \"Aplicaciones\": 2168}, {\"Vacuna\": \"AstraZeneca\", \"Aplicaciones\": 1776}, {\"Vacuna\": \"Sinopharm\", \"Aplicaciones\": 912}, {\"Vacuna\": \"COVISHIELD\", \"Aplicaciones\": 144}]}}, {\"mode\": \"vega-lite\"});\n</script>",
      "text/plain": "alt.Chart(...)"
     },
     "execution_count": 69,
     "metadata": {},
     "output_type": "execute_result"
    }
   ],
   "source": [
    "## Vacunas por fabricante\r\n",
    "from altair import *\r\n",
    "\r\n",
    "header = Header(formatType=\"string\", labelAngle=0, labelAlign=Align(\"left\"), labelFontSize=15, titleFontSize=20)\r\n",
    "\r\n",
    "temp_df = df['vacuna'].value_counts().rename_axis('Vacuna').reset_index(name='Aplicaciones')\r\n",
    "alt.Chart(temp_df).mark_bar(size=60).encode(\r\n",
    "    x=X('Aplicaciones:Q',axis=Axis(titleFontSize=20, labelFontSize=15, labelFontWeight='normal')),\r\n",
    "    y=Y('Vacuna:O', sort='-x', axis=Axis(title='', labelFontSize=15, labelOverlap=False)),\r\n",
    "    opacity=alt.value(0.8),\r\n",
    "    color=alt.value('#7aedfa')\r\n",
    ").properties(height=500, width=1200)\r\n"
   ]
  },
  {
   "cell_type": "code",
   "execution_count": 98,
   "metadata": {},
   "outputs": [
    {
     "data": {
      "text/html": "<div>\n<style scoped>\n    .dataframe tbody tr th:only-of-type {\n        vertical-align: middle;\n    }\n\n    .dataframe tbody tr th {\n        vertical-align: top;\n    }\n\n    .dataframe thead th {\n        text-align: right;\n    }\n</style>\n<table border=\"1\" class=\"dataframe\">\n  <thead>\n    <tr style=\"text-align: right;\">\n      <th></th>\n      <th>Provincia</th>\n      <th>geomarker</th>\n      <th>Aplicaciones</th>\n    </tr>\n  </thead>\n  <tbody>\n    <tr>\n      <th>0</th>\n      <td>CABA</td>\n      <td>MULTIPOLYGON(((-58.3418873969999 -34.631096715...</td>\n      <td>884</td>\n    </tr>\n    <tr>\n      <th>1</th>\n      <td>Neuquén</td>\n      <td>MULTIPOLYGON(((-68.2499999999999 -37.574784639...</td>\n      <td>21</td>\n    </tr>\n    <tr>\n      <th>2</th>\n      <td>San Luis</td>\n      <td>MULTIPOLYGON(((-66.661788297 -31.920536028,-66...</td>\n      <td>28</td>\n    </tr>\n    <tr>\n      <th>3</th>\n      <td>Santa Fe</td>\n      <td>MULTIPOLYGON(((-58.8808218779999 -28.066824880...</td>\n      <td>160</td>\n    </tr>\n    <tr>\n      <th>4</th>\n      <td>La Rioja</td>\n      <td>MULTIPOLYGON(((-65.422985216 -30.119602485,-65...</td>\n      <td>190</td>\n    </tr>\n  </tbody>\n</table>\n</div>",
      "text/plain": "  Provincia                                          geomarker  Aplicaciones\n0      CABA  MULTIPOLYGON(((-58.3418873969999 -34.631096715...           884\n1   Neuquén  MULTIPOLYGON(((-68.2499999999999 -37.574784639...            21\n2  San Luis  MULTIPOLYGON(((-66.661788297 -31.920536028,-66...            28\n3  Santa Fe  MULTIPOLYGON(((-58.8808218779999 -28.066824880...           160\n4  La Rioja  MULTIPOLYGON(((-65.422985216 -30.119602485,-65...           190"
     },
     "execution_count": 98,
     "metadata": {},
     "output_type": "execute_result"
    }
   ],
   "source": [
    "## Mapa de las provincias\r\n",
    "\r\n",
    "## Limpiamos los nombres de las provincias\r\n",
    "df.loc[df.jurisdiccion_aplicacion == \"CÃ³rdoba\", \"jurisdiccion_aplicacion\"] = \"Córdoba\"\r\n",
    "df.loc[df.jurisdiccion_aplicacion == \"Entre RÃ­os\", \"jurisdiccion_aplicacion\"] = \"Entre Ríos\"\r\n",
    "df.loc[df.jurisdiccion_aplicacion == \"TucumÃ¡n\", \"jurisdiccion_aplicacion\"] = \"Tucumán\"\r\n",
    "df.loc[df.jurisdiccion_aplicacion == \"RÃ­o Negro\", \"jurisdiccion_aplicacion\"] = \"Rí­o Negro\"\r\n",
    "df.loc[df.jurisdiccion_aplicacion == \"NeuquÃ©n\", \"jurisdiccion_aplicacion\"] = \"Neuquén\"\r\n",
    "\r\n",
    "provincias_df = df['jurisdiccion_aplicacion'].value_counts().rename_axis('Provincia').reset_index(name='Aplicaciones')\r\n",
    "provincias_df.head()\r\n",
    "\r\n",
    "geoprovince_df = pd.read_csv('datos\\provincia.csv')\r\n",
    "geoprovince_df.loc[geoprovince_df.fna == \"Ciudad Autónoma de Buenos Aires\", \"nam\"] = \"CABA\"\r\n",
    "geoprovince_df = geoprovince_df.rename(columns={'nam': 'Provincia', 'geom': 'geomarker'})\r\n",
    "#geoprovince_df['Provincia'] = geoprovince_df['Provincia'].astype('|S')\r\n",
    "\r\n",
    "\r\n",
    "final_df = pd.merge(geoprovince_df, provincias_df, on=['Provincia'])\r\n",
    "final_df = final_df[['Provincia', 'geomarker', 'Aplicaciones']]\r\n",
    "final_df.head()\r\n",
    "\r\n",
    "\r\n"
   ]
  },
  {
   "cell_type": "code",
   "execution_count": 99,
   "metadata": {},
   "outputs": [],
   "source": [
    "chart = alt.Chart(final_df,\r\n",
    "    title='Aplicaciones en Argentina por Provincia'\r\n",
    ").mark_geoshape(\r\n",
    "    stroke='black',\r\n",
    "    strokeWidth=1\r\n",
    ").encode(\r\n",
    "    alt.Color(\"Aplicaciones\",\r\n",
    "    type='quantitative',\r\n",
    "    scale=alt.Scale(scheme='bluegreen', type='log'),\r\n",
    "    title = 'Aplicaciones'\r\n",
    "    )\r\n",
    ")\r\n",
    "\r\n",
    "tooltip = alt.Chart(final_df\r\n",
    ").mark_geoshape(\r\n",
    "    fill='transparent',\r\n",
    "    stroke='black',\r\n",
    "    strokeWidth=0.1\r\n",
    ").encode(\r\n",
    "    tooltip=[alt.Tooltip('Provincia:O', title=\"Provincia\"), alt.Tooltip(\"Aplicaciones:Q\", title=\"Aplicaciones en la provincia\")],\r\n",
    ")\r\n",
    "\r\n",
    "p = chart + tooltip\r\n",
    "p\r\n"
   ]
  }
 ],
 "metadata": {
  "kernelspec": {
   "display_name": "Python 3.7.2 32-bit",
   "name": "python372jvsc74a57bd08c9f2d4b5379f8c333b64c2795d70a87b57127514e20ba6be28ca771b4143b94"
  },
  "language_info": {
   "codemirror_mode": {
    "name": "ipython",
    "version": 3
   },
   "file_extension": ".py",
   "mimetype": "text/x-python",
   "name": "python",
   "nbconvert_exporter": "python",
   "pygments_lexer": "ipython3",
   "version": "3.7.2"
  },
  "orig_nbformat": 2
 },
 "nbformat": 4,
 "nbformat_minor": 2
}